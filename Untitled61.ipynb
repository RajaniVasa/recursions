{
 "cells": [
  {
   "cell_type": "code",
   "execution_count": 9,
   "id": "72071c46-fb13-465d-9b8b-fa8cbef9f1a5",
   "metadata": {},
   "outputs": [
    {
     "name": "stdin",
     "output_type": "stream",
     "text": [
      "enter a number 7\n"
     ]
    },
    {
     "name": "stdout",
     "output_type": "stream",
     "text": [
      "Rajani 7\n",
      "vasa 6\n",
      "Rajani 5\n",
      "vasa 4\n",
      "Rajani 3\n",
      "vasa 2\n",
      "Rajani 1\n"
     ]
    }
   ],
   "source": [
    "def A(n):\n",
    "    if n<=0:\n",
    "        rerurn\n",
    "    print('Rajani',n)\n",
    "    B(n-1)\n",
    "def B(n):\n",
    "    if n<=0:\n",
    "        return\n",
    "    print('vasa',n)\n",
    "    A(n-1)\n",
    "num=int(input('enter a number'))\n",
    "A(num)"
   ]
  },
  {
   "cell_type": "code",
   "execution_count": null,
   "id": "ea60ec5d-d408-49ed-9e92-5dc48e0dc016",
   "metadata": {},
   "outputs": [],
   "source": []
  }
 ],
 "metadata": {
  "kernelspec": {
   "display_name": "Python 3 (ipykernel)",
   "language": "python",
   "name": "python3"
  },
  "language_info": {
   "codemirror_mode": {
    "name": "ipython",
    "version": 3
   },
   "file_extension": ".py",
   "mimetype": "text/x-python",
   "name": "python",
   "nbconvert_exporter": "python",
   "pygments_lexer": "ipython3",
   "version": "3.12.7"
  }
 },
 "nbformat": 4,
 "nbformat_minor": 5
}
