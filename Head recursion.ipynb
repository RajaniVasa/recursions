{
 "cells": [
  {
   "cell_type": "code",
   "execution_count": 3,
   "id": "dbdaa0a8-9aa1-4b82-ae02-698ec88c9e2f",
   "metadata": {},
   "outputs": [
    {
     "name": "stdin",
     "output_type": "stream",
     "text": [
      "Enter a number: 4\n"
     ]
    },
    {
     "name": "stdout",
     "output_type": "stream",
     "text": [
      "1\n",
      "2\n",
      "3\n",
      "4\n"
     ]
    }
   ],
   "source": [
    "\n",
    "def head(n):\n",
    "    if n==0:\n",
    "        return\n",
    "    head(n-1)\n",
    "    print(n)\n",
    "num=int(input('Enter a number:'))\n",
    "head(num)"
   ]
  },
  {
   "cell_type": "code",
   "execution_count": null,
   "id": "7f07432b-3ebf-4a06-9d01-738f61e653dd",
   "metadata": {},
   "outputs": [],
   "source": []
  }
 ],
 "metadata": {
  "kernelspec": {
   "display_name": "Python 3 (ipykernel)",
   "language": "python",
   "name": "python3"
  },
  "language_info": {
   "codemirror_mode": {
    "name": "ipython",
    "version": 3
   },
   "file_extension": ".py",
   "mimetype": "text/x-python",
   "name": "python",
   "nbconvert_exporter": "python",
   "pygments_lexer": "ipython3",
   "version": "3.12.7"
  }
 },
 "nbformat": 4,
 "nbformat_minor": 5
}
