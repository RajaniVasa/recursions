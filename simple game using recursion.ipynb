{
 "cells": [
  {
   "cell_type": "code",
   "execution_count": null,
   "id": "72071c46-fb13-465d-9b8b-fa8cbef9f1a5",
   "metadata": {},
   "outputs": [
    {
     "name": "stdin",
     "output_type": "stream",
     "text": [
      "enter starting number 3\n"
     ]
    },
    {
     "name": "stdout",
     "output_type": "stream",
     "text": [
      "\n",
      " player A's turn,current number3\n"
     ]
    },
    {
     "name": "stdin",
     "output_type": "stream",
     "text": [
      "Player A,subtract 1 or 2: 5\n",
      "Player A,subtract 1 or 2: 5\n",
      "Player A,subtract 1 or 2: 8\n"
     ]
    }
   ],
   "source": [
    "def player_A(n):\n",
    "    print(f\"\\n player A's turn,current number{n}\")\n",
    "    move=int(input('Player A,subtract 1 or 2:'))\n",
    "    while move not in [1,2]:\n",
    "        move=int(input('Player A,subtract 1 or 2:'))\n",
    "    player_B(n-move)\n",
    "def player_B(n):\n",
    "    if n<=0:\n",
    "        print('player B reached 0!! player B loses🤦')\n",
    "        return\n",
    "    print(f\"\\n player B's turn,current number{n}\")\n",
    "    move=int(input('Player B,subtract 1 or 2:'))\n",
    "    while move not in [1,2]:\n",
    "        move=int(input('Player A,subtract 1 or 2:'))\n",
    "    player_A(n-move)\n",
    "start=int(input('enter starting number'))\n",
    "player_A(start)"
   ]
  },
  {
   "cell_type": "code",
   "execution_count": null,
   "id": "ea60ec5d-d408-49ed-9e92-5dc48e0dc016",
   "metadata": {},
   "outputs": [],
   "source": []
  }
 ],
 "metadata": {
  "kernelspec": {
   "display_name": "Python 3 (ipykernel)",
   "language": "python",
   "name": "python3"
  },
  "language_info": {
   "codemirror_mode": {
    "name": "ipython",
    "version": 3
   },
   "file_extension": ".py",
   "mimetype": "text/x-python",
   "name": "python",
   "nbconvert_exporter": "python",
   "pygments_lexer": "ipython3",
   "version": "3.12.7"
  }
 },
 "nbformat": 4,
 "nbformat_minor": 5
}
