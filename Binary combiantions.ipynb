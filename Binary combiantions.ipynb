{
 "cells": [
  {
   "cell_type": "code",
   "execution_count": 13,
   "id": "a03dc007-7888-45a8-b123-b527bf613838",
   "metadata": {},
   "outputs": [
    {
     "name": "stdin",
     "output_type": "stream",
     "text": [
      "Enter length of string: 3\n"
     ]
    },
    {
     "name": "stdout",
     "output_type": "stream",
     "text": [
      "Binary combinations...\n",
      " 000\n",
      " 001\n",
      " 010\n",
      " 011\n",
      " 100\n",
      " 101\n",
      " 110\n",
      " 111\n"
     ]
    }
   ],
   "source": [
    "def binary(n,b=' '):\n",
    "    if n==0:\n",
    "        print(b)\n",
    "        return\n",
    "    binary(n-1,b+'0')\n",
    "    binary(n-1,b+'1')\n",
    "        \n",
    "        \n",
    "length=int(input('Enter length of string:'))\n",
    "print('Binary combinations...')\n",
    "binary(length)"
   ]
  },
  {
   "cell_type": "code",
   "execution_count": null,
   "id": "e4f3536f-75db-45ef-8132-c2be136c892c",
   "metadata": {},
   "outputs": [],
   "source": []
  }
 ],
 "metadata": {
  "kernelspec": {
   "display_name": "Python 3 (ipykernel)",
   "language": "python",
   "name": "python3"
  },
  "language_info": {
   "codemirror_mode": {
    "name": "ipython",
    "version": 3
   },
   "file_extension": ".py",
   "mimetype": "text/x-python",
   "name": "python",
   "nbconvert_exporter": "python",
   "pygments_lexer": "ipython3",
   "version": "3.12.7"
  }
 },
 "nbformat": 4,
 "nbformat_minor": 5
}
