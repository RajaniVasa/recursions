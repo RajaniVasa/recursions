{
 "cells": [
  {
   "cell_type": "code",
   "execution_count": 1,
   "id": "55be32f4-870a-4cc3-8366-b08c75063363",
   "metadata": {},
   "outputs": [
    {
     "name": "stdin",
     "output_type": "stream",
     "text": [
      "Enter a number: 5\n"
     ]
    },
    {
     "name": "stdout",
     "output_type": "stream",
     "text": [
      "5\n",
      "4\n",
      "3\n",
      "2\n",
      "1\n"
     ]
    }
   ],
   "source": [
    "def head(n):\n",
    "    if n==0:\n",
    "        return\n",
    "    print(n)\n",
    "    head(n-1)\n",
    "num=int(input(\"Enter a number:\"))\n",
    "head(num)"
   ]
  },
  {
   "cell_type": "code",
   "execution_count": null,
   "id": "e38e9c42-fcbb-46ad-89e8-13ec04e5b54f",
   "metadata": {},
   "outputs": [],
   "source": []
  }
 ],
 "metadata": {
  "kernelspec": {
   "display_name": "Python 3 (ipykernel)",
   "language": "python",
   "name": "python3"
  },
  "language_info": {
   "codemirror_mode": {
    "name": "ipython",
    "version": 3
   },
   "file_extension": ".py",
   "mimetype": "text/x-python",
   "name": "python",
   "nbconvert_exporter": "python",
   "pygments_lexer": "ipython3",
   "version": "3.12.7"
  }
 },
 "nbformat": 4,
 "nbformat_minor": 5
}
