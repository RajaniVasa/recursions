{
 "cells": [
  {
   "cell_type": "code",
   "execution_count": null,
   "id": "769f7a5c-f3bc-4932-979d-6bd623e9134d",
   "metadata": {},
   "outputs": [],
   "source": [
    "def dsum(n):\n",
    "    if n==0:\n",
    "        return 0\n",
    "    return n%10+temp(n//10)\n",
    "def temp(n):\n",
    "    return dsum(n)\n",
    "num= int(input('enter a number:'))\n",
    "print('sum of digits:',dsum(num))"
   ]
  },
  {
   "cell_type": "code",
   "execution_count": null,
   "id": "a8110dd2-a807-4524-a644-d5823bc2cd51",
   "metadata": {},
   "outputs": [],
   "source": []
  }
 ],
 "metadata": {
  "kernelspec": {
   "display_name": "Python 3 (ipykernel)",
   "language": "python",
   "name": "python3"
  },
  "language_info": {
   "codemirror_mode": {
    "name": "ipython",
    "version": 3
   },
   "file_extension": ".py",
   "mimetype": "text/x-python",
   "name": "python",
   "nbconvert_exporter": "python",
   "pygments_lexer": "ipython3",
   "version": "3.12.7"
  }
 },
 "nbformat": 4,
 "nbformat_minor": 5
}
